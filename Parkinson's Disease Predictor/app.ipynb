{
 "cells": [
  {
   "cell_type": "code",
   "execution_count": null,
   "metadata": {},
   "outputs": [],
   "source": [
    "from flask import Flask,render_template,url_for,request,jsonify\n",
    "from flask_cors import cross_origin\n",
    "import pandas as pd\n",
    "import numpy as np\n",
    "import datetime\n",
    "import pickle\n",
    "import joblib\n",
    "from xgboost import XGBClassifier\n",
    "\n",
    "\n",
    "app = Flask(__name__,template_folder=\"\")\n",
    "model = joblib.load(open(\"model.pkl\", \"rb\"))\n",
    "print(\"Model Loaded\")\n",
    "\n",
    "@app.route(\"/\")\n",
    "@cross_origin()\n",
    "def home():\n",
    "\treturn render_template(\"home.html\")\n",
    "\n",
    "@app.route(\"/predict\",methods=['POST'])\n",
    "@cross_origin()\n",
    "def predict():\n",
    "    int_features = [float(x) for x in request.form.values()]\n",
    "    final_features = np.array(int_features).reshape(1,6)\n",
    "    prediction = model.predict(final_features)\n",
    "    print(final_features)\n",
    "    output = prediction\n",
    "    if output==0:\n",
    "\t    return render_template('home.html',prediction=\"No case of parkinson's\")\n",
    "    else:\n",
    "\t    return render_template('home.html',prediction=\"Parkinson's might exist\")\n",
    "    \n",
    "    \n",
    "if __name__=='__main__':\n",
    "\tapp.run(host=\"localhost\", port=8000)"
   ]
  }
 ],
 "metadata": {
  "kernelspec": {
   "display_name": "base",
   "language": "python",
   "name": "python3"
  },
  "language_info": {
   "codemirror_mode": {
    "name": "ipython",
    "version": 3
   },
   "file_extension": ".py",
   "mimetype": "text/x-python",
   "name": "python",
   "nbconvert_exporter": "python",
   "pygments_lexer": "ipython3",
   "version": "3.9.12"
  },
  "orig_nbformat": 4
 },
 "nbformat": 4,
 "nbformat_minor": 2
}
